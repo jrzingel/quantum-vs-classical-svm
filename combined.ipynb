{
 "cells": [
  {
   "cell_type": "markdown",
   "metadata": {
    "pycharm": {
     "name": "#%% md\n"
    }
   },
   "source": [
    "# Comparing Quantum to Classical Support Vector Machines\n",
    "13.01.2020\n",
    "\n",
    "As the world grows in its use of technology, machine learning algorithms are being used with increasing frequency to understand the patterns in the data that we produce. As humanity begins to create more data than ever before, we need more efficient ways to sort through this data to find the underlying patterns. A Support Vector Machine is a type of machine learning algorithm that is able to classify datasets. It has recently been proven successful, working on both a quantum computer and a classical computer, using slightly different methods. This report aims to look deeper into each of these methods of classifying a health dataset and determining the benefits of each classification method.\n",
    "\n",
    "### Objective\n",
    "\n",
    "This scientific experiment will aim to explain the basics behind both a Classical and Quantum Support Vector Machine that is able to classify between two distinct classes. It will then further elaborate onwards, comparing the Classical Support Vector Machine (SVM) to the Quantum Support Vector Machine (QSVM) in the aim to find which is computationally superior.\n",
    "\n",
    "In this report, I will focus on support vector machines, which are designed for classification problems on small datasets and which have a quantum QSVM counterpart.\n",
    "\n",
    "> Many sections have been omitted for sake of brevity. Read the full report for more"
   ]
  },
  {
   "cell_type": "code",
   "execution_count": 1,
   "metadata": {
    "pycharm": {
     "name": "#%%\n"
    }
   },
   "outputs": [],
   "source": [
    "from sklearn.linear_model import SGDClassifier\n",
    "import numpy as np\n",
    "import matplotlib.pyplot as plt\n",
    "from sklearn.svm import SVC\n",
    "from qiskit.aqua.utils import split_dataset_to_data_and_labels\n",
    "\n",
    "from matplotlib.colors import ListedColormap\n",
    "\n",
    "def plot_decision_regions(X, y, classifier, test_idx=None, resolution=0.004, plot_data=True):\n",
    "\n",
    "    # setup marker generator and color map\n",
    "    markers = ['s', 'x', 'o', '^', 'v']\n",
    "    colors = ['red', 'blue', 'lightgreen', 'gray', 'cyan']\n",
    "    cmap = ListedColormap(colors[:len(np.unique(y))])\n",
    "\n",
    "    # plot the decision surface\n",
    "    x1_min, x1_max = X[:, 0].min() - 1, X[:, 0].max() + 1\n",
    "    x2_min, x2_max = X[:, 1].min() - 1, X[:, 1].max() + 1\n",
    "    xx1, xx2 = np.meshgrid(np.arange(x1_min, x1_max, resolution),\n",
    "                         np.arange(x2_min, x2_max, resolution))\n",
    "    Z = classifier.predict(np.array([xx1.ravel(), xx2.ravel()]).T)\n",
    "    Z = Z.reshape(xx1.shape)\n",
    "    plt.contourf(xx1, xx2, Z, alpha=0.4, cmap=cmap)\n",
    "    #plt.xlim(xx1.min(), xx1.max())\n",
    "    #plt.ylim(xx2.min(), xx2.max())\n",
    "    if plot_data:\n",
    "        # plot all samples\n",
    "        for idx, cl in enumerate(np.unique(y)):\n",
    "            plt.scatter(x=X[y == cl, 0], y=X[y == cl, 1],\n",
    "                        alpha=0.8, c=colors[idx],\n",
    "                        marker=markers[idx], label=cl)\n"
   ]
  },
  {
   "cell_type": "markdown",
   "metadata": {},
   "source": [
    "### Breast Cancer Dataset\n",
    "To train and test the SVM and QSVM, a labelled real life dataset was used of Dr William H Wolberg’s breast cancer data set [1]. Breast cancer is one of the most common cancers worldwide and is the majority of new cancers diagnosed. Correct early diagnosis dramatically improves a patient’s chance of survival, thus machine learning algorithms are used so that diagnosis can be as automated and accurate as possible thus allowing many patients to be diagnosed properly.\n",
    "\n",
    "This non-linear dataset contains 569 training examples. Each example has 32 different features about the cell nuclei such as the radius, texture, area, perimeter, as well as the class of the cancer being either malignant or benign. Using a principle component analysis, the 32 dimensions can be reduced down to 2 dimensions allowing this dataset to be more easily used. The SVM and QSVM will aim to predict which type of cancer it is from these two attributes. These two principal component dimensions are graphed below."
   ]
  },
  {
   "cell_type": "code",
   "execution_count": 2,
   "metadata": {
    "pycharm": {
     "name": "#%%\n"
    }
   },
   "outputs": [
    {
     "name": "stderr",
     "output_type": "stream",
     "text": [
      "/Users/james/Documents/envs/quantum/lib/python3.7/site-packages/sklearn/utils/validation.py:71: FutureWarning: Pass return_X_y=True as keyword args. From version 0.25 passing these as positional arguments will result in an error\n",
      "  FutureWarning)\n"
     ]
    },
    {
     "data": {
      "text/plain": "<Figure size 432x288 with 1 Axes>",
      "image/png": "[encoded data removed]"
     },
     "metadata": {
      "needs_background": "light"
     },
     "output_type": "display_data"
    }
   ],
   "source": [
    "from datasets import Breast_cancer\n",
    "sample_Total, training_input, test_input, class_labels = Breast_cancer(\n",
    "    training_size=20,\n",
    "    test_size=10,\n",
    "    n=2,\n",
    "    PLOT_DATA=True\n",
    ")\n",
    "\n",
    "train = split_dataset_to_data_and_labels(training_input)\n",
    "test = split_dataset_to_data_and_labels(test_input)\n",
    "\n",
    "X = train[0][0]\n",
    "y = train[0][1]\n",
    "\n",
    "t_X = test[0][0]\n",
    "t_y = test[0][1]"
   ]
  },
  {
   "cell_type": "markdown",
   "metadata": {},
   "source": [
    "## Classical Support Vector Machine\n",
    "\n",
    "Support vector machines aim to find the optimal hyperplane to segregate the data into its different classes. This is best visualised by seeing the algorithm draw a line or curve (or a manifold in higher dimensions) that optimally separates the two classes, and understanding that the algorithm is trying to find the most optimal hyperplane.\n",
    "A hyperplane in n dimensions is n-1 dimensional “flat” subspace inside the larger n dimension. As such in two dimensions it is a line, in three dimensions it is a two dimensional plane, and in four dimensions it is a three dimensional cube (we are unable to visualise this).\n",
    "\n",
    "> This is computed below, but read the report for a futher analysis to how this process works"
   ]
  },
  {
   "cell_type": "code",
   "execution_count": 3,
   "metadata": {
    "pycharm": {
     "name": "#%% SVM\n"
    }
   },
   "outputs": [
    {
     "data": {
      "text/plain": "<Figure size 432x288 with 1 Axes>",
      "image/png": "[encoded data removed]"
     },
     "metadata": {
      "needs_background": "light"
     },
     "output_type": "display_data"
    }
   ],
   "source": [
    "svm = SVC(kernel='rbf', random_state=0, gamma=1.0, C=10.0)  # Radical basis function kernal\n",
    "\n",
    "svm.fit(X, y)\n",
    "plot_decision_regions(X, y, svm)\n",
    "plt.legend()\n",
    "plt.show()"
   ]
  },
  {
   "cell_type": "code",
   "execution_count": 4,
   "metadata": {
    "pycharm": {
     "name": "#%%\n"
    }
   },
   "outputs": [
    {
     "name": "stdout",
     "output_type": "stream",
     "text": [
      "Predicted: [0 0 0 0 0 0 0 0 0 0 1 1 1 1 0 1 0 1 1 1] \n",
      "Which was  [0 0 0 0 0 0 0 0 0 0 1 1 1 1 1 1 1 1 1 1]\n",
      "Overall accuracy of: 0.9\n",
      "Overall accuracy (with train points) of: 0.975\n"
     ]
    },
    {
     "data": {
      "text/plain": "<Figure size 432x288 with 1 Axes>",
      "image/png": "[encoded data removed]"
     },
     "metadata": {
      "needs_background": "light"
     },
     "output_type": "display_data"
    }
   ],
   "source": [
    "# Test accuracy of the generated support vector machine\n",
    "result = svm.predict(t_X)\n",
    "print('Predicted:', result, '\\nWhich was ', t_y)\n",
    "print('Overall accuracy of:', svm.score(t_X, t_y))\n",
    "print('Overall accuracy (with train points) of:', svm.score(X, y))\n",
    "\n",
    "\n",
    "# Plot that data!\n",
    "plt.title('Training Datapoints (Overlayed)')\n",
    "plot_decision_regions(X, y, svm, plot_data=False)\n",
    "plt.scatter(t_X[t_y==0][:, 0], t_X[t_y==0][:, 1])\n",
    "plt.scatter(t_X[t_y==1][:, 0], t_X[t_y==1][:, 1])\n",
    "plt.show()\n"
   ]
  },
  {
   "cell_type": "code",
   "execution_count": 5,
   "metadata": {
    "pycharm": {
     "name": "#%%\n"
    }
   },
   "outputs": [
    {
     "data": {
      "text/plain": "<Figure size 432x288 with 1 Axes>",
      "image/png": "[encoded data removed]"
     },
     "metadata": {
      "needs_background": "light"
     },
     "output_type": "display_data"
    }
   ],
   "source": [
    "wrong = t_y - result\n",
    "plt.title('Incorrect test points')\n",
    "plot_decision_regions(X, y, svm, plot_data=False)\n",
    "plt.scatter(t_X[wrong==0][:, 0], t_X[wrong==0][:, 1], marker='o', label='Correct')\n",
    "plt.scatter(t_X[wrong>0][0], t_X[wrong>0][1], marker='x', label='Incorrect')\n",
    "plt.legend()\n",
    "plt.show()"
   ]
  },
  {
   "attachments": {},
   "cell_type": "markdown",
   "metadata": {
    "pycharm": {
     "name": "#%% md\n"
    }
   },
   "source": [
    "## Quantum Support Vector Machines\n",
    "\n",
    "The quantum method uses the same classical SVM to linearly separate the data, however, instead of using classical methods to solve the kernel trick, it uses entangled qubits and interference to solve this problem, on quantum hardware, thus generating the kernel through a quantum technique. This is possible because quantum states are defined by inner products, and so calculating them can be done through a physical quantum system, as opposed to a digital calculation.\n",
    "\n",
    "> Again, this is much more futher explained in the report"
   ]
  },
  {
   "cell_type": "code",
   "execution_count": 6,
   "metadata": {},
   "outputs": [
    {
     "name": "stderr",
     "output_type": "stream",
     "text": [
      "/Users/james/Documents/envs/quantum/lib/python3.7/site-packages/ipykernel_launcher.py:17: DeprecationWarning: The qiskit.aqua.components.feature_maps.SecondOrderExpansion object is deprecated as of 0.7.0 and will be removed no sooner than 3 months after the release. You should use qiskit.circuit.library.ZZFeatureMap instead.\n",
      "/Users/james/Documents/envs/quantum/lib/python3.7/site-packages/qiskit/aqua/components/feature_maps/second_order_expansion.py:59: DeprecationWarning: The qiskit.aqua.components.feature_maps.PauliZExpansion class is deprecated as of 0.7.0 and will be removed no sooner than 3 months after the release. You should use qiskit.circuit.library.PauliFeatureMap instead.\n",
      "  z_order=2, data_map_func=data_map_func)\n",
      "/Users/james/Documents/envs/quantum/lib/python3.7/site-packages/qiskit/aqua/components/feature_maps/pauli_z_expansion.py:71: DeprecationWarning: The qiskit.aqua.components.feature_maps.PauliExpansion object is deprecated as of 0.7.0 and will be removed no sooner than 3 months after the release. You should use qiskit.circuit.library.PauliFeatureMap instead.\n",
      "  paulis=pauli_string, data_map_func=data_map_func)\n",
      "/Users/james/Documents/envs/quantum/lib/python3.7/site-packages/ipykernel_launcher.py:18: DeprecationWarning: \n",
      "                The <class 'qiskit.aqua.components.feature_maps.second_order_expansion.SecondOrderExpansion'> object as input for the QSVM is deprecated as of 0.7.0 and will\n",
      "                be removed no earlier than 3 months after the release.\n",
      "                You should pass a QuantumCircuit object instead.\n",
      "                See also qiskit.circuit.library.data_preparation for a collection\n",
      "                of suitable circuits.\n"
     ]
    }
   ],
   "source": [
    "from qiskit import BasicAer\n",
    "from qiskit.aqua.utils import split_dataset_to_data_and_labels, map_label_to_class_name\n",
    "#from qiskit.aqua.input import ClassificationInput\n",
    "from qiskit.aqua import QuantumInstance  #\n",
    "from qiskit.aqua.algorithms import QSVM\n",
    "from qiskit.aqua.components.feature_maps import SecondOrderExpansion\n",
    "import qiskit.tools.jupyter  \n",
    "\n",
    "# setup aqua logging\n",
    "import logging\n",
    "from qiskit.aqua import set_qiskit_aqua_logging\n",
    "\n",
    "backend = BasicAer.get_backend('qasm_simulator')\n",
    "\n",
    "seed = 10598\n",
    "\n",
    "feature_map = SecondOrderExpansion(feature_dimension=2, depth=2, entanglement='linear')\n",
    "qsvm = QSVM(feature_map, training_input, test_input)\n",
    "\n",
    "quantum_instance = QuantumInstance(backend, shots=1024, seed_simulator=seed, seed_transpiler=seed, skip_qobj_validation=False)"
   ]
  },
  {
   "cell_type": "code",
   "metadata": {
    "pycharm": {
     "name": "#%%\n"
    }
   },
   "source": [
    "result = qsvm.run(quantum_instance)\n",
    "\n",
    "print(\"testing success ratio: \", result['testing_accuracy'])"
   ],
   "execution_count": 7,
   "outputs": [
    {
     "ename": "DCPError",
     "evalue": "Problem does not follow DCP rules. Specifically:\nThe objective is not DCP. Its following subexpressions are not:\nQuadForm(var0, [[ 1.          0.84082031  0.578125   ... -0.52636719 -0.55078125\n  -0.51367188]\n [ 0.84082031  1.          0.49121094 ... -0.40527344 -0.38574219\n  -0.33007812]\n [ 0.578125    0.49121094  1.         ... -0.36523438 -0.38867188\n  -0.79882812]\n ...\n [-0.52636719 -0.40527344 -0.36523438 ...  1.          0.9921875\n   0.37402344]\n [-0.55078125 -0.38574219 -0.38867188 ...  0.9921875   1.\n   0.36132812]\n [-0.51367188 -0.33007812 -0.79882812 ...  0.37402344  0.36132812\n   1.        ]])",
     "output_type": "error",
     "traceback": [
      "\u001B[0;31m---------------------------------------------------------------------------\u001B[0m",
      "\u001B[0;31mDCPError\u001B[0m                                  Traceback (most recent call last)",
      "\u001B[0;32m<ipython-input-7-78359bce1666>\u001B[0m in \u001B[0;36m<module>\u001B[0;34m\u001B[0m\n\u001B[0;32m----> 1\u001B[0;31m \u001B[0mresult\u001B[0m \u001B[0;34m=\u001B[0m \u001B[0mqsvm\u001B[0m\u001B[0;34m.\u001B[0m\u001B[0mrun\u001B[0m\u001B[0;34m(\u001B[0m\u001B[0mquantum_instance\u001B[0m\u001B[0;34m)\u001B[0m\u001B[0;34m\u001B[0m\u001B[0;34m\u001B[0m\u001B[0m\n\u001B[0m\u001B[1;32m      2\u001B[0m \u001B[0;34m\u001B[0m\u001B[0m\n\u001B[1;32m      3\u001B[0m \u001B[0mprint\u001B[0m\u001B[0;34m(\u001B[0m\u001B[0;34m\"testing success ratio: \"\u001B[0m\u001B[0;34m,\u001B[0m \u001B[0mresult\u001B[0m\u001B[0;34m[\u001B[0m\u001B[0;34m'testing_accuracy'\u001B[0m\u001B[0;34m]\u001B[0m\u001B[0;34m)\u001B[0m\u001B[0;34m\u001B[0m\u001B[0;34m\u001B[0m\u001B[0m\n\u001B[1;32m      4\u001B[0m \u001B[0;34m\u001B[0m\u001B[0m\n",
      "\u001B[0;32m~/Documents/envs/quantum/lib/python3.7/site-packages/qiskit/aqua/algorithms/quantum_algorithm.py\u001B[0m in \u001B[0;36mrun\u001B[0;34m(self, quantum_instance, **kwargs)\u001B[0m\n\u001B[1;32m     68\u001B[0m                 \u001B[0mself\u001B[0m\u001B[0;34m.\u001B[0m\u001B[0mquantum_instance\u001B[0m \u001B[0;34m=\u001B[0m \u001B[0mquantum_instance\u001B[0m\u001B[0;34m\u001B[0m\u001B[0;34m\u001B[0m\u001B[0m\n\u001B[1;32m     69\u001B[0m \u001B[0;34m\u001B[0m\u001B[0m\n\u001B[0;32m---> 70\u001B[0;31m         \u001B[0;32mreturn\u001B[0m \u001B[0mself\u001B[0m\u001B[0;34m.\u001B[0m\u001B[0m_run\u001B[0m\u001B[0;34m(\u001B[0m\u001B[0;34m)\u001B[0m\u001B[0;34m\u001B[0m\u001B[0;34m\u001B[0m\u001B[0m\n\u001B[0m\u001B[1;32m     71\u001B[0m \u001B[0;34m\u001B[0m\u001B[0m\n\u001B[1;32m     72\u001B[0m     \u001B[0;34m@\u001B[0m\u001B[0mabstractmethod\u001B[0m\u001B[0;34m\u001B[0m\u001B[0;34m\u001B[0m\u001B[0m\n",
      "\u001B[0;32m~/Documents/envs/quantum/lib/python3.7/site-packages/qiskit/aqua/algorithms/classifiers/qsvm/qsvm.py\u001B[0m in \u001B[0;36m_run\u001B[0;34m(self)\u001B[0m\n\u001B[1;32m    454\u001B[0m \u001B[0;34m\u001B[0m\u001B[0m\n\u001B[1;32m    455\u001B[0m     \u001B[0;32mdef\u001B[0m \u001B[0m_run\u001B[0m\u001B[0;34m(\u001B[0m\u001B[0mself\u001B[0m\u001B[0;34m)\u001B[0m\u001B[0;34m:\u001B[0m\u001B[0;34m\u001B[0m\u001B[0;34m\u001B[0m\u001B[0m\n\u001B[0;32m--> 456\u001B[0;31m         \u001B[0;32mreturn\u001B[0m \u001B[0mself\u001B[0m\u001B[0;34m.\u001B[0m\u001B[0minstance\u001B[0m\u001B[0;34m.\u001B[0m\u001B[0mrun\u001B[0m\u001B[0;34m(\u001B[0m\u001B[0;34m)\u001B[0m\u001B[0;34m\u001B[0m\u001B[0;34m\u001B[0m\u001B[0m\n\u001B[0m\u001B[1;32m    457\u001B[0m \u001B[0;34m\u001B[0m\u001B[0m\n\u001B[1;32m    458\u001B[0m     \u001B[0;34m@\u001B[0m\u001B[0mproperty\u001B[0m\u001B[0;34m\u001B[0m\u001B[0;34m\u001B[0m\u001B[0m\n",
      "\u001B[0;32m~/Documents/envs/quantum/lib/python3.7/site-packages/qiskit/aqua/algorithms/classifiers/qsvm/_qsvm_binary.py\u001B[0m in \u001B[0;36mrun\u001B[0;34m(self)\u001B[0m\n\u001B[1;32m    134\u001B[0m     \u001B[0;32mdef\u001B[0m \u001B[0mrun\u001B[0m\u001B[0;34m(\u001B[0m\u001B[0mself\u001B[0m\u001B[0;34m)\u001B[0m\u001B[0;34m:\u001B[0m\u001B[0;34m\u001B[0m\u001B[0;34m\u001B[0m\u001B[0m\n\u001B[1;32m    135\u001B[0m         \u001B[0;34m\"\"\"Put the train, test, predict together.\"\"\"\u001B[0m\u001B[0;34m\u001B[0m\u001B[0;34m\u001B[0m\u001B[0m\n\u001B[0;32m--> 136\u001B[0;31m         \u001B[0mself\u001B[0m\u001B[0;34m.\u001B[0m\u001B[0mtrain\u001B[0m\u001B[0;34m(\u001B[0m\u001B[0mself\u001B[0m\u001B[0;34m.\u001B[0m\u001B[0m_qalgo\u001B[0m\u001B[0;34m.\u001B[0m\u001B[0mtraining_dataset\u001B[0m\u001B[0;34m[\u001B[0m\u001B[0;36m0\u001B[0m\u001B[0;34m]\u001B[0m\u001B[0;34m,\u001B[0m \u001B[0mself\u001B[0m\u001B[0;34m.\u001B[0m\u001B[0m_qalgo\u001B[0m\u001B[0;34m.\u001B[0m\u001B[0mtraining_dataset\u001B[0m\u001B[0;34m[\u001B[0m\u001B[0;36m1\u001B[0m\u001B[0;34m]\u001B[0m\u001B[0;34m)\u001B[0m\u001B[0;34m\u001B[0m\u001B[0;34m\u001B[0m\u001B[0m\n\u001B[0m\u001B[1;32m    137\u001B[0m         \u001B[0;32mif\u001B[0m \u001B[0mself\u001B[0m\u001B[0;34m.\u001B[0m\u001B[0m_qalgo\u001B[0m\u001B[0;34m.\u001B[0m\u001B[0mtest_dataset\u001B[0m \u001B[0;32mis\u001B[0m \u001B[0;32mnot\u001B[0m \u001B[0;32mNone\u001B[0m\u001B[0;34m:\u001B[0m\u001B[0;34m\u001B[0m\u001B[0;34m\u001B[0m\u001B[0m\n\u001B[1;32m    138\u001B[0m             \u001B[0mself\u001B[0m\u001B[0;34m.\u001B[0m\u001B[0mtest\u001B[0m\u001B[0;34m(\u001B[0m\u001B[0mself\u001B[0m\u001B[0;34m.\u001B[0m\u001B[0m_qalgo\u001B[0m\u001B[0;34m.\u001B[0m\u001B[0mtest_dataset\u001B[0m\u001B[0;34m[\u001B[0m\u001B[0;36m0\u001B[0m\u001B[0;34m]\u001B[0m\u001B[0;34m,\u001B[0m \u001B[0mself\u001B[0m\u001B[0;34m.\u001B[0m\u001B[0m_qalgo\u001B[0m\u001B[0;34m.\u001B[0m\u001B[0mtest_dataset\u001B[0m\u001B[0;34m[\u001B[0m\u001B[0;36m1\u001B[0m\u001B[0;34m]\u001B[0m\u001B[0;34m)\u001B[0m\u001B[0;34m\u001B[0m\u001B[0;34m\u001B[0m\u001B[0m\n",
      "\u001B[0;32m~/Documents/envs/quantum/lib/python3.7/site-packages/qiskit/aqua/algorithms/classifiers/qsvm/_qsvm_binary.py\u001B[0m in \u001B[0;36mtrain\u001B[0;34m(self, data, labels)\u001B[0m\n\u001B[1;32m     81\u001B[0m         \u001B[0mlabels\u001B[0m \u001B[0;34m=\u001B[0m \u001B[0mlabels\u001B[0m \u001B[0;34m*\u001B[0m \u001B[0;36m2\u001B[0m \u001B[0;34m-\u001B[0m \u001B[0;36m1\u001B[0m  \u001B[0;31m# map label from 0 --> -1 and 1 --> 1\u001B[0m\u001B[0;34m\u001B[0m\u001B[0;34m\u001B[0m\u001B[0m\n\u001B[1;32m     82\u001B[0m         \u001B[0mlabels\u001B[0m \u001B[0;34m=\u001B[0m \u001B[0mlabels\u001B[0m\u001B[0;34m.\u001B[0m\u001B[0mastype\u001B[0m\u001B[0;34m(\u001B[0m\u001B[0mnp\u001B[0m\u001B[0;34m.\u001B[0m\u001B[0mfloat\u001B[0m\u001B[0;34m)\u001B[0m\u001B[0;34m\u001B[0m\u001B[0;34m\u001B[0m\u001B[0m\n\u001B[0;32m---> 83\u001B[0;31m         \u001B[0;34m[\u001B[0m\u001B[0malpha\u001B[0m\u001B[0;34m,\u001B[0m \u001B[0mb\u001B[0m\u001B[0;34m,\u001B[0m \u001B[0msupport\u001B[0m\u001B[0;34m]\u001B[0m \u001B[0;34m=\u001B[0m \u001B[0moptimize_svm\u001B[0m\u001B[0;34m(\u001B[0m\u001B[0mkernel_matrix\u001B[0m\u001B[0;34m,\u001B[0m \u001B[0mlabels\u001B[0m\u001B[0;34m,\u001B[0m \u001B[0mscaling\u001B[0m\u001B[0;34m=\u001B[0m\u001B[0mscaling\u001B[0m\u001B[0;34m)\u001B[0m\u001B[0;34m\u001B[0m\u001B[0;34m\u001B[0m\u001B[0m\n\u001B[0m\u001B[1;32m     84\u001B[0m         \u001B[0msupport_index\u001B[0m \u001B[0;34m=\u001B[0m \u001B[0mnp\u001B[0m\u001B[0;34m.\u001B[0m\u001B[0mwhere\u001B[0m\u001B[0;34m(\u001B[0m\u001B[0msupport\u001B[0m\u001B[0;34m)\u001B[0m\u001B[0;34m\u001B[0m\u001B[0;34m\u001B[0m\u001B[0m\n\u001B[1;32m     85\u001B[0m         \u001B[0malphas\u001B[0m \u001B[0;34m=\u001B[0m \u001B[0malpha\u001B[0m\u001B[0;34m[\u001B[0m\u001B[0msupport_index\u001B[0m\u001B[0;34m]\u001B[0m\u001B[0;34m\u001B[0m\u001B[0;34m\u001B[0m\u001B[0m\n",
      "\u001B[0;32m~/Documents/envs/quantum/lib/python3.7/site-packages/qiskit/aqua/utils/qp_solver.py\u001B[0m in \u001B[0;36moptimize_svm\u001B[0;34m(kernel_matrix, y, scaling, max_iters, show_progress)\u001B[0m\n\u001B[1;32m     68\u001B[0m         [G@x <= h,\n\u001B[1;32m     69\u001B[0m          A@x == b])\n\u001B[0;32m---> 70\u001B[0;31m     \u001B[0mprob\u001B[0m\u001B[0;34m.\u001B[0m\u001B[0msolve\u001B[0m\u001B[0;34m(\u001B[0m\u001B[0mverbose\u001B[0m\u001B[0;34m=\u001B[0m\u001B[0mshow_progress\u001B[0m\u001B[0;34m)\u001B[0m\u001B[0;34m\u001B[0m\u001B[0;34m\u001B[0m\u001B[0m\n\u001B[0m\u001B[1;32m     71\u001B[0m     \u001B[0mresult\u001B[0m \u001B[0;34m=\u001B[0m \u001B[0mnp\u001B[0m\u001B[0;34m.\u001B[0m\u001B[0masarray\u001B[0m\u001B[0;34m(\u001B[0m\u001B[0mx\u001B[0m\u001B[0;34m.\u001B[0m\u001B[0mvalue\u001B[0m\u001B[0;34m)\u001B[0m\u001B[0;34m.\u001B[0m\u001B[0mreshape\u001B[0m\u001B[0;34m(\u001B[0m\u001B[0;34m(\u001B[0m\u001B[0mn\u001B[0m\u001B[0;34m,\u001B[0m \u001B[0;36m1\u001B[0m\u001B[0;34m)\u001B[0m\u001B[0;34m)\u001B[0m\u001B[0;34m\u001B[0m\u001B[0;34m\u001B[0m\u001B[0m\n\u001B[1;32m     72\u001B[0m     \u001B[0malpha\u001B[0m \u001B[0;34m=\u001B[0m \u001B[0mresult\u001B[0m \u001B[0;34m*\u001B[0m \u001B[0mscaling\u001B[0m\u001B[0;34m\u001B[0m\u001B[0;34m\u001B[0m\u001B[0m\n",
      "\u001B[0;32m~/Documents/envs/quantum/lib/python3.7/site-packages/cvxpy/problems/problem.py\u001B[0m in \u001B[0;36msolve\u001B[0;34m(self, *args, **kwargs)\u001B[0m\n\u001B[1;32m    393\u001B[0m         \u001B[0;32melse\u001B[0m\u001B[0;34m:\u001B[0m\u001B[0;34m\u001B[0m\u001B[0;34m\u001B[0m\u001B[0m\n\u001B[1;32m    394\u001B[0m             \u001B[0msolve_func\u001B[0m \u001B[0;34m=\u001B[0m \u001B[0mProblem\u001B[0m\u001B[0;34m.\u001B[0m\u001B[0m_solve\u001B[0m\u001B[0;34m\u001B[0m\u001B[0;34m\u001B[0m\u001B[0m\n\u001B[0;32m--> 395\u001B[0;31m         \u001B[0;32mreturn\u001B[0m \u001B[0msolve_func\u001B[0m\u001B[0;34m(\u001B[0m\u001B[0mself\u001B[0m\u001B[0;34m,\u001B[0m \u001B[0;34m*\u001B[0m\u001B[0margs\u001B[0m\u001B[0;34m,\u001B[0m \u001B[0;34m**\u001B[0m\u001B[0mkwargs\u001B[0m\u001B[0;34m)\u001B[0m\u001B[0;34m\u001B[0m\u001B[0;34m\u001B[0m\u001B[0m\n\u001B[0m\u001B[1;32m    396\u001B[0m \u001B[0;34m\u001B[0m\u001B[0m\n\u001B[1;32m    397\u001B[0m     \u001B[0;34m@\u001B[0m\u001B[0mclassmethod\u001B[0m\u001B[0;34m\u001B[0m\u001B[0;34m\u001B[0m\u001B[0m\n",
      "\u001B[0;32m~/Documents/envs/quantum/lib/python3.7/site-packages/cvxpy/problems/problem.py\u001B[0m in \u001B[0;36m_solve\u001B[0;34m(self, solver, warm_start, verbose, gp, qcp, requires_grad, enforce_dpp, **kwargs)\u001B[0m\n\u001B[1;32m    742\u001B[0m \u001B[0;34m\u001B[0m\u001B[0m\n\u001B[1;32m    743\u001B[0m         data, solving_chain, inverse_data = self.get_problem_data(\n\u001B[0;32m--> 744\u001B[0;31m             solver, gp, enforce_dpp)\n\u001B[0m\u001B[1;32m    745\u001B[0m         solution = solving_chain.solve_via_data(\n\u001B[1;32m    746\u001B[0m             self, data, warm_start, verbose, kwargs)\n",
      "\u001B[0;32m~/Documents/envs/quantum/lib/python3.7/site-packages/cvxpy/problems/problem.py\u001B[0m in \u001B[0;36mget_problem_data\u001B[0;34m(self, solver, gp, enforce_dpp)\u001B[0m\n\u001B[1;32m    497\u001B[0m             \u001B[0mself\u001B[0m\u001B[0;34m.\u001B[0m\u001B[0m_cache\u001B[0m\u001B[0;34m.\u001B[0m\u001B[0minvalidate\u001B[0m\u001B[0;34m(\u001B[0m\u001B[0;34m)\u001B[0m\u001B[0;34m\u001B[0m\u001B[0;34m\u001B[0m\u001B[0m\n\u001B[1;32m    498\u001B[0m             solving_chain = self._construct_chain(\n\u001B[0;32m--> 499\u001B[0;31m                 solver=solver, gp=gp, enforce_dpp=enforce_dpp)\n\u001B[0m\u001B[1;32m    500\u001B[0m             \u001B[0mself\u001B[0m\u001B[0;34m.\u001B[0m\u001B[0m_cache\u001B[0m\u001B[0;34m.\u001B[0m\u001B[0mkey\u001B[0m \u001B[0;34m=\u001B[0m \u001B[0mkey\u001B[0m\u001B[0;34m\u001B[0m\u001B[0;34m\u001B[0m\u001B[0m\n\u001B[1;32m    501\u001B[0m             \u001B[0mself\u001B[0m\u001B[0;34m.\u001B[0m\u001B[0m_cache\u001B[0m\u001B[0;34m.\u001B[0m\u001B[0msolving_chain\u001B[0m \u001B[0;34m=\u001B[0m \u001B[0msolving_chain\u001B[0m\u001B[0;34m\u001B[0m\u001B[0;34m\u001B[0m\u001B[0m\n",
      "\u001B[0;32m~/Documents/envs/quantum/lib/python3.7/site-packages/cvxpy/problems/problem.py\u001B[0m in \u001B[0;36m_construct_chain\u001B[0;34m(self, solver, gp, enforce_dpp)\u001B[0m\n\u001B[1;32m    650\u001B[0m         \u001B[0mcandidate_solvers\u001B[0m \u001B[0;34m=\u001B[0m \u001B[0mself\u001B[0m\u001B[0;34m.\u001B[0m\u001B[0m_find_candidate_solvers\u001B[0m\u001B[0;34m(\u001B[0m\u001B[0msolver\u001B[0m\u001B[0;34m=\u001B[0m\u001B[0msolver\u001B[0m\u001B[0;34m,\u001B[0m \u001B[0mgp\u001B[0m\u001B[0;34m=\u001B[0m\u001B[0mgp\u001B[0m\u001B[0;34m)\u001B[0m\u001B[0;34m\u001B[0m\u001B[0;34m\u001B[0m\u001B[0m\n\u001B[1;32m    651\u001B[0m         return construct_solving_chain(self, candidate_solvers, gp=gp,\n\u001B[0;32m--> 652\u001B[0;31m                                        enforce_dpp=enforce_dpp)\n\u001B[0m\u001B[1;32m    653\u001B[0m \u001B[0;34m\u001B[0m\u001B[0m\n\u001B[1;32m    654\u001B[0m     \u001B[0;32mdef\u001B[0m \u001B[0m_invalidate_cache\u001B[0m\u001B[0;34m(\u001B[0m\u001B[0mself\u001B[0m\u001B[0;34m)\u001B[0m\u001B[0;34m:\u001B[0m\u001B[0;34m\u001B[0m\u001B[0;34m\u001B[0m\u001B[0m\n",
      "\u001B[0;32m~/Documents/envs/quantum/lib/python3.7/site-packages/cvxpy/reductions/solvers/solving_chain.py\u001B[0m in \u001B[0;36mconstruct_solving_chain\u001B[0;34m(problem, candidates, gp, enforce_dpp)\u001B[0m\n\u001B[1;32m    149\u001B[0m     \u001B[0;32mif\u001B[0m \u001B[0mlen\u001B[0m\u001B[0;34m(\u001B[0m\u001B[0mproblem\u001B[0m\u001B[0;34m.\u001B[0m\u001B[0mvariables\u001B[0m\u001B[0;34m(\u001B[0m\u001B[0;34m)\u001B[0m\u001B[0;34m)\u001B[0m \u001B[0;34m==\u001B[0m \u001B[0;36m0\u001B[0m\u001B[0;34m:\u001B[0m\u001B[0;34m\u001B[0m\u001B[0;34m\u001B[0m\u001B[0m\n\u001B[1;32m    150\u001B[0m         \u001B[0;32mreturn\u001B[0m \u001B[0mSolvingChain\u001B[0m\u001B[0;34m(\u001B[0m\u001B[0mreductions\u001B[0m\u001B[0;34m=\u001B[0m\u001B[0;34m[\u001B[0m\u001B[0mConstantSolver\u001B[0m\u001B[0;34m(\u001B[0m\u001B[0;34m)\u001B[0m\u001B[0;34m]\u001B[0m\u001B[0;34m)\u001B[0m\u001B[0;34m\u001B[0m\u001B[0;34m\u001B[0m\u001B[0m\n\u001B[0;32m--> 151\u001B[0;31m     \u001B[0mreductions\u001B[0m \u001B[0;34m=\u001B[0m \u001B[0m_reductions_for_problem_class\u001B[0m\u001B[0;34m(\u001B[0m\u001B[0mproblem\u001B[0m\u001B[0;34m,\u001B[0m \u001B[0mcandidates\u001B[0m\u001B[0;34m,\u001B[0m \u001B[0mgp\u001B[0m\u001B[0;34m)\u001B[0m\u001B[0;34m\u001B[0m\u001B[0;34m\u001B[0m\u001B[0m\n\u001B[0m\u001B[1;32m    152\u001B[0m \u001B[0;34m\u001B[0m\u001B[0m\n\u001B[1;32m    153\u001B[0m     \u001B[0mdpp_context\u001B[0m \u001B[0;34m=\u001B[0m \u001B[0;34m'dcp'\u001B[0m \u001B[0;32mif\u001B[0m \u001B[0;32mnot\u001B[0m \u001B[0mgp\u001B[0m \u001B[0;32melse\u001B[0m \u001B[0;34m'dgp'\u001B[0m\u001B[0;34m\u001B[0m\u001B[0;34m\u001B[0m\u001B[0m\n",
      "\u001B[0;32m~/Documents/envs/quantum/lib/python3.7/site-packages/cvxpy/reductions/solvers/solving_chain.py\u001B[0m in \u001B[0;36m_reductions_for_problem_class\u001B[0;34m(problem, candidates, gp)\u001B[0m\n\u001B[1;32m     88\u001B[0m                        \"Consider calling solve() with `qcp=True`.\")\n\u001B[1;32m     89\u001B[0m         raise DCPError(\n\u001B[0;32m---> 90\u001B[0;31m             \"Problem does not follow DCP rules. Specifically:\\n\" + append)\n\u001B[0m\u001B[1;32m     91\u001B[0m     \u001B[0;32melif\u001B[0m \u001B[0mgp\u001B[0m \u001B[0;32mand\u001B[0m \u001B[0;32mnot\u001B[0m \u001B[0mproblem\u001B[0m\u001B[0;34m.\u001B[0m\u001B[0mis_dgp\u001B[0m\u001B[0;34m(\u001B[0m\u001B[0;34m)\u001B[0m\u001B[0;34m:\u001B[0m\u001B[0;34m\u001B[0m\u001B[0;34m\u001B[0m\u001B[0m\n\u001B[1;32m     92\u001B[0m         \u001B[0mappend\u001B[0m \u001B[0;34m=\u001B[0m \u001B[0mbuild_non_disciplined_error_msg\u001B[0m\u001B[0;34m(\u001B[0m\u001B[0mproblem\u001B[0m\u001B[0;34m,\u001B[0m \u001B[0;34m'DGP'\u001B[0m\u001B[0;34m)\u001B[0m\u001B[0;34m\u001B[0m\u001B[0;34m\u001B[0m\u001B[0m\n",
      "\u001B[0;31mDCPError\u001B[0m: Problem does not follow DCP rules. Specifically:\nThe objective is not DCP. Its following subexpressions are not:\nQuadForm(var0, [[ 1.          0.84082031  0.578125   ... -0.52636719 -0.55078125\n  -0.51367188]\n [ 0.84082031  1.          0.49121094 ... -0.40527344 -0.38574219\n  -0.33007812]\n [ 0.578125    0.49121094  1.         ... -0.36523438 -0.38867188\n  -0.79882812]\n ...\n [-0.52636719 -0.40527344 -0.36523438 ...  1.          0.9921875\n   0.37402344]\n [-0.55078125 -0.38574219 -0.38867188 ...  0.9921875   1.\n   0.36132812]\n [-0.51367188 -0.33007812 -0.79882812 ...  0.37402344  0.36132812\n   1.        ]])"
     ]
    }
   ]
  },
  {
   "cell_type": "code",
   "execution_count": null,
   "metadata": {},
   "outputs": [],
   "source": [
    "print(\"kernel matrix during the training:\")\n",
    "kernel_matrix = result['kernel_matrix_training']\n",
    "img = plt.imshow(np.asmatrix(kernel_matrix),interpolation='nearest',origin='upper',cmap='bone_r')\n",
    "plt.show()\n",
    "\n",
    "results = qsvm.predict(t_X, quantum_instance)\n",
    "result_train = qsvm.predict(X, quantum_instance)\n",
    "\n",
    "accuracy = 1-((results + t_y) == 1).sum()/len(t_y)\n",
    "\n",
    "print('Predicted:', results, '\\nWhich was ', t_y)\n",
    "print('Overall accuracy of:', accuracy)\n",
    "print('Overall accuracy (with train points) of:', 1-((result_train + y) == 1).sum()/len(y))\n",
    "\n",
    "resolution = 0.2\n",
    "\n",
    "# plot the decision surface\n",
    "x1_min, x1_max = X[:, 0].min() - 1, X[:, 0].max() + 1\n",
    "x2_min, x2_max = X[:, 1].min() - 1, X[:, 1].max() + 1\n",
    "xx1, xx2 = np.meshgrid(np.arange(x1_min, x1_max, resolution),\n",
    "                     np.arange(x2_min, x2_max, resolution))\n",
    "Z = qsvm.predict(np.array([xx1.ravel(), xx2.ravel()]).T, quantum_instance)\n",
    "Z = Z.reshape(xx1.shape)\n",
    "plt.contourf(xx1, xx2, Z, alpha=0.4)\n",
    "plt.show()"
   ]
  },
  {
   "cell_type": "markdown",
   "metadata": {},
   "source": [
    "## Conclusion\n",
    "\n",
    "In terms of accuracy, the Classical system is superior to the Quantum SVM, as the classical SVM achieved an accuracy of 90% whereas the quantum system only had an accuracy of 80%. \n",
    "\n",
    "However both are still supeior to random guesswork of 50%\n",
    "\n",
    "> Futher analysis is in the report"
   ]
  },
  {
   "cell_type": "code",
   "execution_count": null,
   "metadata": {},
   "outputs": [],
   "source": []
  }
 ],
 "metadata": {
  "kernelspec": {
   "display_name": "Python 3",
   "language": "python",
   "name": "python3"
  },
  "language_info": {
   "codemirror_mode": {
    "name": "ipython",
    "version": 3
   },
   "file_extension": ".py",
   "mimetype": "text/x-python",
   "name": "python",
   "nbconvert_exporter": "python",
   "pygments_lexer": "ipython3",
   "version": "3.7.3"
  }
 },
 "nbformat": 4,
 "nbformat_minor": 1
}